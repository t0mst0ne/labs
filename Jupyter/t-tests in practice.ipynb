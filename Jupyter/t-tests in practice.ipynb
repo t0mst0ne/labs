{
 "cells": [
  {
   "cell_type": "code",
   "execution_count": 1,
   "metadata": {
    "collapsed": false
   },
   "outputs": [
    {
     "data": {
      "text/plain": [
       "  Diet Bodyweight\n",
       "1 chow      21.51\n",
       "2 chow      28.14\n",
       "3 chow      24.04\n",
       "4 chow      23.45\n",
       "5 chow      23.68\n",
       "6 chow      19.79"
      ]
     },
     "execution_count": 1,
     "metadata": {},
     "output_type": "execute_result"
    },
    {
     "name": "stdout",
     "output_type": "stream",
     "text": [
      "[1] 3.020833\n"
     ]
    }
   ],
   "source": [
    "# http://genomicsclass.github.io/book/pages/t-tests_in_practice.html\n",
    "\n",
    "library(downloader)\n",
    "url <- \"https://raw.githubusercontent.com/genomicsclass/dagdata/master/inst/extdata/femaleMiceWeights.csv\"\n",
    "filename <- tempfile()\n",
    "download(url,destfile=filename)\n",
    "dat <- read.csv(filename)\n",
    "head(dat)\n",
    "controlIndex <- which(dat$Diet==\"chow\")\n",
    "treatmentIndex <- which(dat$Diet==\"hf\")\n",
    "\n",
    "control <- dat[controlIndex,2]\n",
    "treatment <- dat[treatmentIndex,2]\n",
    "diff <- mean(treatment)-mean(control)\n",
    "print(diff)\n"
   ]
  },
  {
   "cell_type": "code",
   "execution_count": null,
   "metadata": {
    "collapsed": true
   },
   "outputs": [],
   "source": []
  }
 ],
 "metadata": {
  "kernelspec": {
   "display_name": "R",
   "language": "",
   "name": "ir"
  },
  "language_info": {
   "codemirror_mode": "r",
   "file_extension": ".r",
   "mimetype": "text/x-r-source",
   "name": "R",
   "pygments_lexer": "r"
  }
 },
 "nbformat": 4,
 "nbformat_minor": 0
}
