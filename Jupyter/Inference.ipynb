{
 "cells": [
  {
   "cell_type": "code",
   "execution_count": 1,
   "metadata": {
    "collapsed": false
   },
   "outputs": [
    {
     "data": {
      "text/plain": [
       "[1] -18.42271"
      ]
     },
     "execution_count": 1,
     "metadata": {},
     "output_type": "execute_result"
    },
    {
     "data": {
      "text/plain": [
       "[1] 8.937666"
      ]
     },
     "execution_count": 1,
     "metadata": {},
     "output_type": "execute_result"
    },
    {
     "data": {
      "text/plain": [
       "[1] 0.957"
      ]
     },
     "execution_count": 1,
     "metadata": {},
     "output_type": "execute_result"
    },
    {
     "data": {
      "text/plain": [
       "[1] 8.4"
      ]
     },
     "execution_count": 1,
     "metadata": {},
     "output_type": "execute_result"
    }
   ],
   "source": [
    "# Week 3 inference II\n",
    "\n",
    "# QUESTION 1.1  \n",
    "babies = read.table(\"babies.txt\", header=TRUE)\n",
    "\n",
    "bwt.nonsmoke = babies$bwt[babies$smoke==0]\n",
    "bwt.smoke = babies$bwt[babies$smoke==1]\n",
    "\n",
    "s1 = replicate(1000, t.test(sample(bwt.nonsmoke,30),sample(bwt.smoke,30))$conf.int[1])\n",
    "s2 = replicate(1000, t.test(sample(bwt.nonsmoke,30),sample(bwt.smoke,30))$conf.int[2])\n",
    "\n",
    "mean(s1-s2) # Ans : 18.39661\n",
    "\n",
    "# Question 1.2\n",
    "popdiff = mean(bwt.nonsmoke) - mean(bwt.smoke)\n",
    "popdiff\n",
    "mean(s1 < popdiff & s2 > popdiff)\n",
    "\n",
    "# QUESTION 1.3\n",
    "\n",
    "dat.ns = sample(bwt.nonsmoke, 30)\n",
    "dat.s = sample(bwt.smoke, 30)\n",
    "X.ns = mean(dat.ns)\n",
    "sd.ns = sd(dat.ns)\n",
    "X.s = mean(dat.s)\n",
    "sd.s = sd(dat.s)\n",
    "sd.diff = sqrt(sd.ns^2/30 + sd.s^2/30)\n",
    "tval = (X.ns - X.s)/sd.diff\n",
    "ci.upper = (X.ns-X.s) + sd.diff*1.96\n",
    "ci.lower = (X.ns-X.s) - sd.diff*1.96\n",
    "(X.ns-X.s)\n"
   ]
  },
  {
   "cell_type": "code",
   "execution_count": null,
   "metadata": {
    "collapsed": true
   },
   "outputs": [],
   "source": []
  }
 ],
 "metadata": {
  "kernelspec": {
   "display_name": "R",
   "language": "",
   "name": "ir"
  },
  "language_info": {
   "codemirror_mode": "r",
   "file_extension": ".r",
   "mimetype": "text/x-r-source",
   "name": "R",
   "pygments_lexer": "r"
  }
 },
 "nbformat": 4,
 "nbformat_minor": 0
}
